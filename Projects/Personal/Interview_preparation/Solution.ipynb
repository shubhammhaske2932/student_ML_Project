{
 "cells": [
  {
   "cell_type": "code",
   "execution_count": 2,
   "metadata": {},
   "outputs": [],
   "source": [
    "import pandas as pd"
   ]
  },
  {
   "cell_type": "code",
   "execution_count": 2,
   "metadata": {},
   "outputs": [
    {
     "data": {
      "text/html": [
       "<div>\n",
       "<style scoped>\n",
       "    .dataframe tbody tr th:only-of-type {\n",
       "        vertical-align: middle;\n",
       "    }\n",
       "\n",
       "    .dataframe tbody tr th {\n",
       "        vertical-align: top;\n",
       "    }\n",
       "\n",
       "    .dataframe thead th {\n",
       "        text-align: right;\n",
       "    }\n",
       "</style>\n",
       "<table border=\"1\" class=\"dataframe\">\n",
       "  <thead>\n",
       "    <tr style=\"text-align: right;\">\n",
       "      <th></th>\n",
       "      <th>A</th>\n",
       "    </tr>\n",
       "  </thead>\n",
       "  <tbody>\n",
       "    <tr>\n",
       "      <th>0</th>\n",
       "      <td>AA BB CC AA</td>\n",
       "    </tr>\n",
       "    <tr>\n",
       "      <th>1</th>\n",
       "      <td>BB BB</td>\n",
       "    </tr>\n",
       "  </tbody>\n",
       "</table>\n",
       "</div>"
      ],
      "text/plain": [
       "             A\n",
       "0  AA BB CC AA\n",
       "1        BB BB"
      ]
     },
     "execution_count": 2,
     "metadata": {},
     "output_type": "execute_result"
    }
   ],
   "source": [
    "df = pd.DataFrame({\"A\":['AA BB CC AA',\"BB BB\"]})\n",
    "df"
   ]
  },
  {
   "cell_type": "code",
   "execution_count": 26,
   "metadata": {},
   "outputs": [
    {
     "data": {
      "text/html": [
       "<div>\n",
       "<style scoped>\n",
       "    .dataframe tbody tr th:only-of-type {\n",
       "        vertical-align: middle;\n",
       "    }\n",
       "\n",
       "    .dataframe tbody tr th {\n",
       "        vertical-align: top;\n",
       "    }\n",
       "\n",
       "    .dataframe thead th {\n",
       "        text-align: right;\n",
       "    }\n",
       "</style>\n",
       "<table border=\"1\" class=\"dataframe\">\n",
       "  <thead>\n",
       "    <tr style=\"text-align: right;\">\n",
       "      <th></th>\n",
       "      <th>A</th>\n",
       "    </tr>\n",
       "  </thead>\n",
       "  <tbody>\n",
       "    <tr>\n",
       "      <th>0</th>\n",
       "      <td>AA BB CC</td>\n",
       "    </tr>\n",
       "    <tr>\n",
       "      <th>1</th>\n",
       "      <td>BB</td>\n",
       "    </tr>\n",
       "  </tbody>\n",
       "</table>\n",
       "</div>"
      ],
      "text/plain": [
       "          A\n",
       "0  AA BB CC\n",
       "1        BB"
      ]
     },
     "execution_count": 26,
     "metadata": {},
     "output_type": "execute_result"
    }
   ],
   "source": [
    "def Remove_duplicate(data):\n",
    "    data_new = \"\"\n",
    "    for x in data.split():\n",
    "        if x not in data_new:\n",
    "            data_new = (data_new+x+\" \")\n",
    "    return data_new.strip()\n",
    "\n",
    "df['A'] = df['A'].apply(Remove_duplicate)\n",
    "df"
   ]
  },
  {
   "cell_type": "code",
   "execution_count": 21,
   "metadata": {},
   "outputs": [
    {
     "name": "stdout",
     "output_type": "stream",
     "text": [
      "a4b3a2b2c2\n"
     ]
    }
   ],
   "source": [
    "s = 'aaaabbbaabbcc'\n",
    "output_string = ''\n",
    "current_char = s[0]\n",
    "count=1\n",
    "\n",
    "for i in range(1,len(s)):\n",
    "    if s[i]==current_char:\n",
    "        count=count+1\n",
    "    else:\n",
    "        output_string = output_string + current_char + str(count)\n",
    "        current_char = s[i]\n",
    "        count=1\n",
    "output_string = output_string + current_char + str(count)\n",
    "print(output_string)"
   ]
  },
  {
   "cell_type": "code",
   "execution_count": 23,
   "metadata": {},
   "outputs": [
    {
     "name": "stdout",
     "output_type": "stream",
     "text": [
      "a3b2a2c4\n"
     ]
    }
   ],
   "source": [
    "s = 'aaabbaacccc'\n",
    "output = ''\n",
    "current_char = s[0]\n",
    "count = 1\n",
    "for i in range(1,len(s)):\n",
    "    if s[i] == current_char:\n",
    "        count = count+1\n",
    "    else:\n",
    "        output = output + current_char + str(count)\n",
    "        current_char = s[i]\n",
    "        count = 1\n",
    "        \n",
    "output = output + current_char + str(count)\n",
    "print(output)"
   ]
  },
  {
   "cell_type": "code",
   "execution_count": 24,
   "metadata": {},
   "outputs": [
    {
     "name": "stdout",
     "output_type": "stream",
     "text": [
      "3a2b2a4c\n"
     ]
    }
   ],
   "source": [
    "s = 'aaabbaacccc'\n",
    "output = ''\n",
    "current_char = s[0]\n",
    "count = 1\n",
    "for i in range(1,len(s)):\n",
    "    if s[i] == current_char:\n",
    "        count = count+1\n",
    "    else:\n",
    "        output = output + str(count) + current_char\n",
    "        current_char = s[i]\n",
    "        count = 1\n",
    "        \n",
    "output = output + str(count) + current_char\n",
    "print(output)"
   ]
  }
 ],
 "metadata": {
  "kernelspec": {
   "display_name": "Python 3 (ipykernel)",
   "language": "python",
   "name": "python3"
  },
  "language_info": {
   "codemirror_mode": {
    "name": "ipython",
    "version": 3
   },
   "file_extension": ".py",
   "mimetype": "text/x-python",
   "name": "python",
   "nbconvert_exporter": "python",
   "pygments_lexer": "ipython3",
   "version": "3.7.3"
  }
 },
 "nbformat": 4,
 "nbformat_minor": 2
}
